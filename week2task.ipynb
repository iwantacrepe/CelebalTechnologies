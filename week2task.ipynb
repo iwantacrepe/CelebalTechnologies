{
 "cells": [
  {
   "cell_type": "markdown",
   "id": "adc4d542",
   "metadata": {},
   "source": [
    "Capitalize!"
   ]
  },
  {
   "cell_type": "code",
   "execution_count": 13,
   "id": "fea530fb",
   "metadata": {},
   "outputs": [
    {
     "name": "stdout",
     "output_type": "stream",
     "text": [
      "Chris Alan\n",
      "1hello World  How Are You\n",
      "Q W E R T Y U I O P A S D F G H J K L Z X C V B N M Q W E R T Y U I O P A S D F G H J K L Z X C V B N M\n"
     ]
    }
   ],
   "source": [
    "def solve(s):\n",
    "    words = s.split(' ')\n",
    "    capitalized_words = []\n",
    "    for word in words:\n",
    "        if word:\n",
    "            capitalized_words.append(word[0].upper() + word[1:])\n",
    "        else:\n",
    "            capitalized_words.append('')\n",
    "    return ' '.join(capitalized_words)\n",
    "\n",
    "# How to call the function and print the result\n",
    "full_name = \"chris alan\"\n",
    "capitalized_name = solve(full_name)\n",
    "print(capitalized_name)\n",
    "\n",
    "full_name_2 = \"1hello world  how are you\"\n",
    "capitalized_name_2 = solve(full_name_2)\n",
    "print(capitalized_name_2)\n",
    "\n",
    "full_name_3 = \"q w e r t y u i o p a s d f g h j k l z x c v b n m Q W E R T Y U I O P A S D F G H J K L Z X C V B N M\"\n",
    "capitalized_name_3 = solve(full_name_3)\n",
    "print(capitalized_name_3)"
   ]
  },
  {
   "cell_type": "markdown",
   "id": "6b5cc279",
   "metadata": {},
   "source": [
    " Introduction to Sets (Average)"
   ]
  },
  {
   "cell_type": "code",
   "execution_count": 14,
   "id": "aeb03906",
   "metadata": {},
   "outputs": [
    {
     "name": "stdout",
     "output_type": "stream",
     "text": [
      "169.375\n",
      "20.0\n"
     ]
    }
   ],
   "source": [
    "def average(array):\n",
    "    distinct_heights = set(array)\n",
    "    return sum(distinct_heights) / len(distinct_heights)\n",
    "\n",
    "# How to call the function and print the result\n",
    "# n = int(input()) # Not needed for calling the function directly\n",
    "arr = [161, 182, 161, 154, 176, 170, 167, 171, 170, 174]\n",
    "result = average(arr)\n",
    "print(result)\n",
    "\n",
    "arr2 = [10, 20, 20, 30, 30, 30]\n",
    "result2 = average(arr2)\n",
    "print(result2)\n"
   ]
  },
  {
   "cell_type": "markdown",
   "id": "047151e9",
   "metadata": {},
   "source": [
    " Text Wrap"
   ]
  },
  {
   "cell_type": "code",
   "execution_count": 15,
   "id": "f0a5f1d9",
   "metadata": {},
   "outputs": [
    {
     "name": "stdout",
     "output_type": "stream",
     "text": [
      "ABCD\n",
      "EFGH\n",
      "IJKL\n",
      "IMNO\n",
      "QRST\n",
      "UVWX\n",
      "YZ\n",
      "This is a\n",
      "very long\n",
      "string\n",
      "that needs\n",
      "to be\n",
      "wrapped.\n"
     ]
    }
   ],
   "source": [
    "import textwrap\n",
    "\n",
    "def wrap(string, max_width):\n",
    "    return textwrap.fill(string, max_width)\n",
    "# How to call the function and print the result\n",
    "string_to_wrap = \"ABCDEFGHIJKLIMNOQRSTUVWXYZ\"\n",
    "width = 4\n",
    "wrapped_string = wrap(string_to_wrap, width)\n",
    "print(wrapped_string)\n",
    "\n",
    "string_to_wrap_2 = \"This is a very long string that needs to be wrapped.\"\n",
    "width_2 = 10\n",
    "wrapped_string_2 = wrap(string_to_wrap_2, width_2)\n",
    "print(wrapped_string_2)\n"
   ]
  },
  {
   "cell_type": "markdown",
   "id": "953e3580",
   "metadata": {},
   "source": [
    "Alphabet Rangoli"
   ]
  },
  {
   "cell_type": "code",
   "execution_count": 16,
   "id": "7e00f7ac",
   "metadata": {},
   "outputs": [
    {
     "name": "stdout",
     "output_type": "stream",
     "text": [
      "-------e-e-------\n",
      "-----e-d-d-e-----\n",
      "---e-d-c-c-d-e---\n",
      "-e-d-c-b-b-c-d-e-\n",
      "----a-b-c-d-e----\n",
      "-e-d-c-b-b-c-d-e-\n",
      "---e-d-c-c-d-e---\n",
      "-----e-d-d-e-----\n",
      "-------e-e-------\n",
      "--------------------\n",
      "---c-c---\n",
      "-c-b-b-c-\n",
      "--a-b-c--\n",
      "-c-b-b-c-\n",
      "---c-c---\n"
     ]
    }
   ],
   "source": [
    "def print_rangoli(size):\n",
    "    import string\n",
    "    alpha = string.ascii_lowercase\n",
    "    lines = []\n",
    "    width = 4 * size - 3\n",
    "    for i in range(size):\n",
    "        s = '-'.join(alpha[size-1:size-1-i-1:-1] + alpha[size-1-i:size])\n",
    "        lines.append(s.center(width, '-'))\n",
    "    \n",
    "    if size == 1:\n",
    "        # print(lines[0]) # Original problem prints, we'll return for consistency\n",
    "        return lines[0]\n",
    "\n",
    "    result_lines = lines + lines[size-2::-1]\n",
    "    # print('\\n'.join(result_lines)) # Original problem prints\n",
    "    return '\\n'.join(result_lines)\n",
    "\n",
    "\n",
    "# How to call the function and print the result\n",
    "size_5_rangoli_str = print_rangoli(5)\n",
    "print(size_5_rangoli_str)\n",
    "\n",
    "print(\"-\" * 20) \n",
    "\n",
    "size_3_rangoli_str = print_rangoli(3)\n",
    "print(size_3_rangoli_str)\n"
   ]
  },
  {
   "cell_type": "markdown",
   "id": "83a3ef99",
   "metadata": {},
   "source": [
    "Merge the Tools!"
   ]
  },
  {
   "cell_type": "code",
   "execution_count": 17,
   "id": "d210a1c5",
   "metadata": {},
   "outputs": [
    {
     "name": "stdout",
     "output_type": "stream",
     "text": [
      "Actual Output for 'AABCAAADA', 3:\n",
      "AB\n",
      "CA\n",
      "AD\n",
      "\n",
      "Actual Output for 'ABCDEFGH', 2:\n",
      "AB\n",
      "CD\n",
      "EF\n",
      "GH\n"
     ]
    }
   ],
   "source": [
    "def merge_the_tools(string, k):\n",
    "    n = len(string)\n",
    "    for i in range(0, n, k):\n",
    "        sub = string[i:i+k]\n",
    "        seen = set()\n",
    "        result = []\n",
    "        for char in sub:\n",
    "            if char not in seen:\n",
    "                seen.add(char)\n",
    "                result.append(char)\n",
    "        print(\"\".join(result))\n",
    "# How to call the function\n",
    "print(\"Actual Output for 'AABCAAADA', 3:\")\n",
    "merge_the_tools(\"AABCAAADA\", 3)\n",
    "\n",
    "print(\"\\nActual Output for 'ABCDEFGH', 2:\")\n",
    "merge_the_tools(\"ABCDEFGH\", 2)"
   ]
  },
  {
   "cell_type": "markdown",
   "id": "147fb128",
   "metadata": {},
   "source": [
    "collections.Counter()"
   ]
  },
  {
   "cell_type": "code",
   "execution_count": 18,
   "id": "3bea03bb",
   "metadata": {},
   "outputs": [
    {
     "name": "stdout",
     "output_type": "stream",
     "text": [
      "200\n",
      "40\n"
     ]
    }
   ],
   "source": [
    "from collections import Counter\n",
    "\n",
    "def calculate_earnings(initial_shoe_sizes, customer_demands):\n",
    "    shoe_counts = Counter(initial_shoe_sizes)\n",
    "    money_earned = 0\n",
    "    for size, price in customer_demands:\n",
    "        if shoe_counts[size] > 0:\n",
    "            money_earned += price\n",
    "            shoe_counts[size] -= 1\n",
    "    return money_earned\n",
    "# How to call the refactored function and print the result\n",
    "shop_shoe_sizes = [2, 3, 4, 5, 6, 8, 7, 6, 5, 18]\n",
    "customer_orders = [\n",
    "    (6, 55),\n",
    "    (6, 45),\n",
    "    (6, 55),\n",
    "    (4, 40),\n",
    "    (18, 60),\n",
    "    (10, 50)\n",
    "]\n",
    "total_earned = calculate_earnings(shop_shoe_sizes, customer_orders)\n",
    "print(total_earned)\n",
    "\n",
    "shop_shoe_sizes_2 = [1,1,2,2,3,3]\n",
    "customer_orders_2 = [(1,10),(1,10),(1,10),(2,20),(4,50)]\n",
    "total_earned_2 = calculate_earnings(shop_shoe_sizes_2, customer_orders_2)\n",
    "print(total_earned_2)\n",
    "\n"
   ]
  },
  {
   "cell_type": "markdown",
   "id": "a77ffb3a",
   "metadata": {},
   "source": [
    " Exceptions"
   ]
  },
  {
   "cell_type": "code",
   "execution_count": 19,
   "id": "adaf1218",
   "metadata": {},
   "outputs": [
    {
     "name": "stdout",
     "output_type": "stream",
     "text": [
      "Error Code: integer division or modulo by zero\n",
      "Error Code: invalid literal for int() with base 10: '$'\n",
      "3\n",
      "5\n"
     ]
    }
   ],
   "source": [
    "def handle_division_attempt(a_val_str, b_val_str):\n",
    "    try:\n",
    "        a = int(a_val_str)\n",
    "        b = int(b_val_str)\n",
    "        return a // b\n",
    "    except ZeroDivisionError as e:\n",
    "        return f\"Error Code: {e}\"\n",
    "    except ValueError as e:\n",
    "        return f\"Error Code: {e}\"\n",
    "\n",
    "# How to call the refactored function and print the result\n",
    "test_cases = [\n",
    "    (\"1\", \"0\"),\n",
    "    (\"2\", \"$\"),\n",
    "    (\"3\", \"1\"),\n",
    "    (\"10\", \"2\")\n",
    "]\n",
    "\n",
    "for a_str, b_str in test_cases:\n",
    "    result = handle_division_attempt(a_str, b_str)\n",
    "    print(result)\n"
   ]
  },
  {
   "cell_type": "markdown",
   "id": "7d130c82",
   "metadata": {},
   "source": [
    "Incorrect Regex"
   ]
  },
  {
   "cell_type": "code",
   "execution_count": 20,
   "id": "2c2a179a",
   "metadata": {},
   "outputs": [
    {
     "name": "stdout",
     "output_type": "stream",
     "text": [
      "True\n",
      "True\n",
      "True\n",
      "False\n"
     ]
    }
   ],
   "source": [
    "import re\n",
    "\n",
    "def check_regex_validity(pattern_string):\n",
    "    try:\n",
    "        re.compile(pattern_string)\n",
    "        return True\n",
    "    except re.error:\n",
    "        return False\n",
    "    \n",
    "# How to call the refactored function and print the result\n",
    "regex_patterns_to_test = [\n",
    "    r\".*\\+\",\n",
    "    r\".*+\",\n",
    "    r\"[a-z]\",\n",
    "    r\"(*\" \n",
    "]\n",
    "\n",
    "for pattern in regex_patterns_to_test:\n",
    "    is_valid = check_regex_validity(pattern)\n",
    "    print(is_valid)\n"
   ]
  },
  {
   "cell_type": "markdown",
   "id": "cbd9a64f",
   "metadata": {},
   "source": [
    "Set .discard(), .remove() & .pop()"
   ]
  },
  {
   "cell_type": "code",
   "execution_count": 21,
   "id": "1fd71d7b",
   "metadata": {},
   "outputs": [
    {
     "name": "stdout",
     "output_type": "stream",
     "text": [
      "4\n",
      "30\n"
     ]
    }
   ],
   "source": [
    "def process_set_operations(initial_elements, list_of_commands):\n",
    "    s_set = set(initial_elements)\n",
    "    for cmd_item in list_of_commands:\n",
    "        command_parts = cmd_item.split()\n",
    "        operation = command_parts[0]\n",
    "        \n",
    "        if operation == \"pop\":\n",
    "            if s_set: \n",
    "                s_set.pop()\n",
    "        elif operation == \"remove\":\n",
    "            value = int(command_parts[1])\n",
    "            if value in s_set: # Check before removing to avoid KeyError if not present\n",
    "                s_set.remove(value)\n",
    "        elif operation == \"discard\":\n",
    "            value = int(command_parts[1])\n",
    "            s_set.discard(value)\n",
    "    return sum(s_set)\n",
    "\n",
    "\n",
    "# How to call the refactored function and print the result\n",
    "initial_s = [1, 2, 3, 4, 5, 6, 7, 8, 9]\n",
    "commands_list = [\n",
    "    \"pop\",\n",
    "    \"remove 9\",\n",
    "    \"discard 9\", # a duplicate discard/remove on 9, discard is safe\n",
    "    \"discard 8\",\n",
    "    \"remove 7\",\n",
    "    \"pop\", \n",
    "    \"discard 6\",\n",
    "    \"remove 5\",\n",
    "    \"pop\", \n",
    "    \"discard 5\"  # a duplicate discard/remove on 5, discard is safe\n",
    "]\n",
    "final_sum = process_set_operations(initial_s, commands_list)\n",
    "print(final_sum)\n",
    "\n",
    "\n",
    "initial_s_2 = [10, 20, 30, 40]\n",
    "commands_list_2 = [\"pop\", \"remove 10\", \"discard 50\", \"pop\"]\n",
    "final_sum_2 = process_set_operations(initial_s_2, commands_list_2)\n",
    "print(final_sum_2)\n"
   ]
  }
 ],
 "metadata": {
  "kernelspec": {
   "display_name": "base",
   "language": "python",
   "name": "python3"
  },
  "language_info": {
   "codemirror_mode": {
    "name": "ipython",
    "version": 3
   },
   "file_extension": ".py",
   "mimetype": "text/x-python",
   "name": "python",
   "nbconvert_exporter": "python",
   "pygments_lexer": "ipython3",
   "version": "3.12.3"
  }
 },
 "nbformat": 4,
 "nbformat_minor": 5
}
